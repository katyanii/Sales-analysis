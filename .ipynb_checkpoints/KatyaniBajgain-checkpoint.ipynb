{
 "cells": [
  {
   "cell_type": "code",
   "execution_count": 1,
   "id": "6e3d8170",
   "metadata": {},
   "outputs": [],
   "source": [
    "#import required libraries\n",
    "import os\n",
    "import pandas as pd\n",
    "import numpy as np\n",
    "import datetime as dt\n",
    "import matplotlib.pyplot as plt\n",
    "import warnings\n",
    "warnings.filterwarnings('ignore')"
   ]
  },
  {
   "cell_type": "code",
   "execution_count": 2,
   "id": "5e488e0e",
   "metadata": {},
   "outputs": [
    {
     "ename": "FileNotFoundError",
     "evalue": "[WinError 3] The system cannot find the path specified: 'csv/'",
     "output_type": "error",
     "traceback": [
      "\u001b[1;31m---------------------------------------------------------------------------\u001b[0m",
      "\u001b[1;31mFileNotFoundError\u001b[0m                         Traceback (most recent call last)",
      "\u001b[1;32m~\\AppData\\Local\\Temp\\ipykernel_16764\\1711712154.py\u001b[0m in \u001b[0;36m<module>\u001b[1;34m\u001b[0m\n\u001b[0;32m      1\u001b[0m \u001b[1;31m#specify the path where csv files are located\u001b[0m\u001b[1;33m\u001b[0m\u001b[1;33m\u001b[0m\u001b[0m\n\u001b[0;32m      2\u001b[0m \u001b[0mpath\u001b[0m \u001b[1;33m=\u001b[0m \u001b[1;34m\"csv/\"\u001b[0m\u001b[1;33m\u001b[0m\u001b[1;33m\u001b[0m\u001b[0m\n\u001b[1;32m----> 3\u001b[1;33m \u001b[0mread_files\u001b[0m \u001b[1;33m=\u001b[0m \u001b[0mos\u001b[0m\u001b[1;33m.\u001b[0m\u001b[0mlistdir\u001b[0m\u001b[1;33m(\u001b[0m\u001b[0mpath\u001b[0m\u001b[1;33m)\u001b[0m\u001b[1;33m\u001b[0m\u001b[1;33m\u001b[0m\u001b[0m\n\u001b[0m\u001b[0;32m      4\u001b[0m \u001b[0mread_files\u001b[0m\u001b[1;33m\u001b[0m\u001b[1;33m\u001b[0m\u001b[0m\n",
      "\u001b[1;31mFileNotFoundError\u001b[0m: [WinError 3] The system cannot find the path specified: 'csv/'"
     ]
    }
   ],
   "source": [
    "#specify the path where csv files are located\n",
    "path = \"csv/\"\n",
    "read_files = os.listdir(path)\n",
    "read_files"
   ]
  },
  {
   "cell_type": "code",
   "execution_count": null,
   "id": "21f5950d",
   "metadata": {},
   "outputs": [],
   "source": [
    "#Create an empty dataframe to combine data from all csv file\n",
    "combined_df = pd.DataFrame()\n",
    "for file in read_files:\n",
    "#read each csv file and append the data to the empty data frame\n",
    "    df = pd.read_csv(path+file)\n",
    "    combined_df = combined_df.append(df, ignore_index=True)\n",
    "combined_df"
   ]
  },
  {
   "cell_type": "code",
   "execution_count": null,
   "id": "56376162",
   "metadata": {},
   "outputs": [],
   "source": [
    "#dropping all rows with missing values\n",
    "combined_df.dropna(inplace=True, axis=0, how='all')\n",
    "combined_df"
   ]
  },
  {
   "cell_type": "code",
   "execution_count": null,
   "id": "82c3aaf1",
   "metadata": {},
   "outputs": [],
   "source": [
    "#convert 'Quantity Ordered' and 'Price Each' columns to numeric data type\n",
    "combined_df['Quantity Ordered'] = pd.to_numeric(combined_df['Quantity Ordered'])\n",
    "combined_df['Price Each'] = pd.to_numeric(combined_df['Price Each'])\n",
    "combined_df"
   ]
  },
  {
   "cell_type": "code",
   "execution_count": null,
   "id": "6fb5f4b2",
   "metadata": {},
   "outputs": [],
   "source": [
    "#convert 'Order Date' column to datetime data type\n",
    "combined_df['Order Date'] = pd.to_datetime(combined_df['Order Date'])\n",
    "# extract 'Month' from the 'Order Date' column and convert it to numeric data type\n",
    "combined_df.insert(4,'Month',combined_df['Order Date'].dt.strftime('%m').astype(int))\n",
    "combined_df"
   ]
  },
  {
   "cell_type": "code",
   "execution_count": null,
   "id": "05ec5a16",
   "metadata": {},
   "outputs": [],
   "source": [
    "#extract 'City' from the 'Purchase Address' column and add it as a new column\n",
    "City=[] #ceate an empty list\n",
    "for i in combined_df['Purchase Address'].values.astype(str):\n",
    "    value = i.split(',')\n",
    "    City.append(value[1])\n",
    "combined_df.insert(7,'City', City) #list is added to the dataframe\n",
    "combined_df\n"
   ]
  },
  {
   "cell_type": "code",
   "execution_count": null,
   "id": "ff7a08b3",
   "metadata": {},
   "outputs": [],
   "source": [
    "Quantity_Ordered = combined_df['Quantity Ordered']\n",
    "print('Sum is :',Quantity_Ordered.sum()) #prints sum"
   ]
  },
  {
   "cell_type": "code",
   "execution_count": null,
   "id": "e27586a6",
   "metadata": {},
   "outputs": [],
   "source": [
    "Quantity_Ordered = combined_df['Quantity Ordered']\n",
    "print('Mean is :',Quantity_Ordered.mean())#prints mean"
   ]
  },
  {
   "cell_type": "code",
   "execution_count": null,
   "id": "367a2273",
   "metadata": {},
   "outputs": [],
   "source": [
    "Quantity_Ordered = combined_df['Quantity Ordered']\n",
    "print('Standar Deviation is :',Quantity_Ordered.std())#prints quantity ordered"
   ]
  },
  {
   "cell_type": "code",
   "execution_count": null,
   "id": "782c22ab",
   "metadata": {},
   "outputs": [],
   "source": [
    "Quantity_Ordered = combined_df['Quantity Ordered']\n",
    "print('Skweness is :',Quantity_Ordered.skew())#prints skewness\n"
   ]
  },
  {
   "cell_type": "code",
   "execution_count": null,
   "id": "862329f8",
   "metadata": {},
   "outputs": [],
   "source": [
    "Quantity_Ordered = combined_df['Quantity Ordered']\n",
    "print('Kurtosis is :',Quantity_Ordered.kurtosis())#prints Kurtosis"
   ]
  },
  {
   "cell_type": "code",
   "execution_count": null,
   "id": "6c62bbe2",
   "metadata": {},
   "outputs": [],
   "source": [
    "#calculates the correlation between all the columns\n",
    "correlation = combined_df.corr()\n",
    "correlation"
   ]
  },
  {
   "cell_type": "code",
   "execution_count": null,
   "id": "331fa6d0",
   "metadata": {},
   "outputs": [],
   "source": [
    "# calculate the sales by multiplying 'Quantity Ordered' and 'Price Each' columns\n",
    "combined_df['Sales'] = combined_df['Quantity Ordered']*combined_df['Price Each']\n",
    "combined_df"
   ]
  },
  {
   "cell_type": "code",
   "execution_count": null,
   "id": "d7bc72f3",
   "metadata": {},
   "outputs": [],
   "source": [
    "# group the data by 'Month' column and calculate the sum of each column\n",
    "combined_df.groupby('Month').sum()['Sales']"
   ]
  },
  {
   "cell_type": "code",
   "execution_count": null,
   "id": "0ff278ef",
   "metadata": {
    "scrolled": false
   },
   "outputs": [],
   "source": [
    "combined_df.groupby('Month').sum()"
   ]
  },
  {
   "cell_type": "code",
   "execution_count": null,
   "id": "3a92285c",
   "metadata": {},
   "outputs": [],
   "source": [
    "# plot a bar chart showing the sales for each month\n",
    "months= ['January','Feburary','March','April','May','June','July','August','September','October','November','December']\n",
    "results = combined_df.groupby('Month').sum()\n",
    "plt.title(\"\\n Sales stat for each Month \\n\")\n",
    "plt.bar(months, results['Sales'],color=\"#A2CBA6\", edgecolor='#4A4848')\n",
    "plt.xticks(months, rotation = \"vertical\")\n",
    "labels, location = plt.yticks()\n",
    "plt.yticks(labels, (labels/1000000).astype(int))\n",
    "plt.xlabel('Months \\n')\n",
    "plt.ylabel('Sales in Millions (USD) \\n')\n",
    "plt.show()"
   ]
  },
  {
   "cell_type": "code",
   "execution_count": null,
   "id": "4cdf8ecd",
   "metadata": {},
   "outputs": [],
   "source": [
    "# group the data by 'City' column and calculate the sum of each column\n",
    "results2 = combined_df.groupby('City').sum()\n",
    "results2"
   ]
  },
  {
   "cell_type": "code",
   "execution_count": null,
   "id": "95876892",
   "metadata": {},
   "outputs": [],
   "source": [
    "results2 = combined_df.groupby('City').sum()['Quantity Ordered']\n",
    "#plot a bar chart showing the quantity of products ordered in each city\n",
    "plt.title(\"\\n Quantiy of the products ordered in each City \\n\")\n",
    "plt.bar(results2.index, results2.values, color=\"#A2CBA6\",edgecolor='#4A4848', width=0.6)\n",
    "plt.xticks(rotation='vertical')\n",
    "labels, location = plt.yticks()\n",
    "plt.xlabel(' \\nCity name')\n",
    "plt.ylabel('Quantiy Ordered \\n')\n",
    "plt.show()\n"
   ]
  },
  {
   "cell_type": "code",
   "execution_count": null,
   "id": "af6a55b5",
   "metadata": {
    "scrolled": false
   },
   "outputs": [],
   "source": [
    "#Grouping the combined_df dataframe by product\n",
    "product = combined_df.groupby('Product')\n",
    "#Calculating the total quantity ordered for each product\n",
    "quantity_ordered = product.sum()['Quantity Ordered']\n"
   ]
  },
  {
   "cell_type": "code",
   "execution_count": null,
   "id": "c40f0535",
   "metadata": {},
   "outputs": [],
   "source": [
    "#Creating a bar plot to visualize the quantity of products ordered\n",
    "plt.title(\"\\n Quanity of the Ordered Products \\n\")\n",
    "plt.bar(quantity_ordered.index , quantity_ordered.values,color=\"#A2CBA6\",edgecolor='#4A4848' )\n",
    "plt.ylabel('Quantity Ordered \\n')\n",
    "plt.xlabel('\\nProducts')\n",
    "plt.xticks(rotation='vertical')\n",
    "plt.show()"
   ]
  },
  {
   "cell_type": "code",
   "execution_count": null,
   "id": "9f670858",
   "metadata": {},
   "outputs": [],
   "source": [
    "#Creating a histogram to visualize the price distribution for each product\n",
    "plt.title(\"\\n Price Distribution for each product \\n\")\n",
    "plt.hist(combined_df['Price Each'],edgecolor='#4A4848', bins=20,color=\"#D2BAD7\" )\n",
    "plt.xlabel('\\nPrice')\n",
    "plt.ylabel('Count\\n')\n",
    "plt.show()"
   ]
  },
  {
   "cell_type": "code",
   "execution_count": null,
   "id": "7107f44c",
   "metadata": {},
   "outputs": [],
   "source": []
  }
 ],
 "metadata": {
  "kernelspec": {
   "display_name": "Python 3 (ipykernel)",
   "language": "python",
   "name": "python3"
  },
  "language_info": {
   "codemirror_mode": {
    "name": "ipython",
    "version": 3
   },
   "file_extension": ".py",
   "mimetype": "text/x-python",
   "name": "python",
   "nbconvert_exporter": "python",
   "pygments_lexer": "ipython3",
   "version": "3.9.13"
  }
 },
 "nbformat": 4,
 "nbformat_minor": 5
}
